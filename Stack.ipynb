{
 "cells": [
  {
   "cell_type": "markdown",
   "id": "a631d9b4",
   "metadata": {},
   "source": []
  },
  {
   "cell_type": "code",
   "execution_count": 3,
   "id": "33f66510",
   "metadata": {},
   "outputs": [
    {
     "name": "stdout",
     "output_type": "stream",
     "text": [
      "[[None None None None None None]\n",
      " [None None None None None None]\n",
      " [None None None None None None]\n",
      " [None None None None None None]\n",
      " [None None None None None None]\n",
      " [None None None None None None]\n",
      " [None None None None None None]\n",
      " [None None None None None None]\n",
      " [None None None None None None]\n",
      " [None None None None None None]\n",
      " [None None None None None None]\n",
      " [None None None None None None]]\n"
     ]
    }
   ],
   "source": [
    "#Empty stack\n",
    "import numpy\n",
    "\n",
    "stack = numpy.empty(shape = (12,6), dtype='object') #Initialize empty array (Panel stack)\n",
    "print(stack)"
   ]
  },
  {
   "cell_type": "code",
   "execution_count": 9,
   "id": "5514e362",
   "metadata": {},
   "outputs": [
    {
     "name": "stdout",
     "output_type": "stream",
     "text": [
      "3\n",
      "2\n",
      "1\n",
      "Channel!\n",
      "[[5 2 5 2 5 1]\n",
      " [1 4 5 4 4 4]\n",
      " [5 4 3 2 1 4]\n",
      " [0 3 4 4 0 2]\n",
      " [0 2 1 5 2 1]\n",
      " [2 3 0 4 0 5]\n",
      " [1 3 2 4 3 2]\n",
      " [4 5 1 5 4 0]\n",
      " [1 2 2 0 5 3]\n",
      " [2 3 5 1 0 0]\n",
      " [0 5 0 3 4 2]\n",
      " [3 5 2 2 0 4]]\n"
     ]
    }
   ],
   "source": [
    "#Full Stack\n",
    "import numpy as np\n",
    "\n",
    "\n",
    "P1side = np.random.randint(6, size = (12,6)) \n",
    "print(\"3\");\n",
    "print(\"2\");\n",
    "print(\"1\");\n",
    "print(\"Channel!\");\n",
    "print(P1side);"
   ]
  },
  {
   "cell_type": "code",
   "execution_count": 15,
   "id": "cab821fc",
   "metadata": {},
   "outputs": [],
   "source": [
    "#Formatted Stack\n",
    "import numpy as np\n",
    "\n",
    "\n",
    "P1side = np.random.randint(6, size=(12,6))"
   ]
  },
  {
   "cell_type": "code",
   "execution_count": null,
   "id": "5a54e321",
   "metadata": {},
   "outputs": [],
   "source": []
  },
  {
   "cell_type": "code",
   "execution_count": null,
   "id": "85c094cb",
   "metadata": {},
   "outputs": [],
   "source": []
  }
 ],
 "metadata": {
  "kernelspec": {
   "display_name": "Python 3",
   "language": "python",
   "name": "python3"
  },
  "language_info": {
   "codemirror_mode": {
    "name": "ipython",
    "version": 3
   },
   "file_extension": ".py",
   "mimetype": "text/x-python",
   "name": "python",
   "nbconvert_exporter": "python",
   "pygments_lexer": "ipython3",
   "version": "3.8.8"
  }
 },
 "nbformat": 4,
 "nbformat_minor": 5
}
